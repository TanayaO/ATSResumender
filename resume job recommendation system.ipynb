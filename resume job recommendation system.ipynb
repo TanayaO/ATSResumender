{
 "cells": [
  {
   "cell_type": "code",
   "execution_count": 1,
   "id": "6eb7ce33",
   "metadata": {},
   "outputs": [],
   "source": [
    "import pandas as pd"
   ]
  },
  {
   "cell_type": "code",
   "execution_count": 2,
   "id": "cfd66e4b",
   "metadata": {},
   "outputs": [],
   "source": [
    "df= pd.read_csv(r\"C:\\Users\\tanay\\Desktop\\ATS\\datasets\\jobs_dataset_with_features.csv\")"
   ]
  },
  {
   "cell_type": "code",
   "execution_count": 3,
   "id": "c69638e5",
   "metadata": {},
   "outputs": [
    {
     "data": {
      "text/plain": [
       "(1615940, 2)"
      ]
     },
     "execution_count": 3,
     "metadata": {},
     "output_type": "execute_result"
    }
   ],
   "source": [
    "df.shape"
   ]
  },
  {
   "cell_type": "code",
   "execution_count": 4,
   "id": "eb628ae7",
   "metadata": {},
   "outputs": [
    {
     "data": {
      "text/html": [
       "<div>\n",
       "<style scoped>\n",
       "    .dataframe tbody tr th:only-of-type {\n",
       "        vertical-align: middle;\n",
       "    }\n",
       "\n",
       "    .dataframe tbody tr th {\n",
       "        vertical-align: top;\n",
       "    }\n",
       "\n",
       "    .dataframe thead th {\n",
       "        text-align: right;\n",
       "    }\n",
       "</style>\n",
       "<table border=\"1\" class=\"dataframe\">\n",
       "  <thead>\n",
       "    <tr style=\"text-align: right;\">\n",
       "      <th></th>\n",
       "      <th>Role</th>\n",
       "      <th>Features</th>\n",
       "    </tr>\n",
       "  </thead>\n",
       "  <tbody>\n",
       "    <tr>\n",
       "      <th>0</th>\n",
       "      <td>Social Media Manager</td>\n",
       "      <td>5 to 15 Years Digital Marketing Specialist M.T...</td>\n",
       "    </tr>\n",
       "    <tr>\n",
       "      <th>1</th>\n",
       "      <td>Frontend Web Developer</td>\n",
       "      <td>2 to 12 Years Web Developer BCA HTML, CSS, Jav...</td>\n",
       "    </tr>\n",
       "    <tr>\n",
       "      <th>2</th>\n",
       "      <td>Quality Control Manager</td>\n",
       "      <td>0 to 12 Years Operations Manager PhD Quality c...</td>\n",
       "    </tr>\n",
       "    <tr>\n",
       "      <th>3</th>\n",
       "      <td>Wireless Network Engineer</td>\n",
       "      <td>4 to 11 Years Network Engineer PhD Wireless ne...</td>\n",
       "    </tr>\n",
       "    <tr>\n",
       "      <th>4</th>\n",
       "      <td>Conference Manager</td>\n",
       "      <td>1 to 12 Years Event Manager MBA Event planning...</td>\n",
       "    </tr>\n",
       "  </tbody>\n",
       "</table>\n",
       "</div>"
      ],
      "text/plain": [
       "                        Role  \\\n",
       "0       Social Media Manager   \n",
       "1     Frontend Web Developer   \n",
       "2    Quality Control Manager   \n",
       "3  Wireless Network Engineer   \n",
       "4         Conference Manager   \n",
       "\n",
       "                                            Features  \n",
       "0  5 to 15 Years Digital Marketing Specialist M.T...  \n",
       "1  2 to 12 Years Web Developer BCA HTML, CSS, Jav...  \n",
       "2  0 to 12 Years Operations Manager PhD Quality c...  \n",
       "3  4 to 11 Years Network Engineer PhD Wireless ne...  \n",
       "4  1 to 12 Years Event Manager MBA Event planning...  "
      ]
     },
     "execution_count": 4,
     "metadata": {},
     "output_type": "execute_result"
    }
   ],
   "source": [
    "df.head()"
   ]
  },
  {
   "cell_type": "code",
   "execution_count": 5,
   "id": "74f73903",
   "metadata": {},
   "outputs": [
    {
     "data": {
      "text/plain": [
       "376"
      ]
     },
     "execution_count": 5,
     "metadata": {},
     "output_type": "execute_result"
    }
   ],
   "source": [
    "len(df[\"Role\"].value_counts())"
   ]
  },
  {
   "cell_type": "code",
   "execution_count": 6,
   "id": "a51c8496",
   "metadata": {},
   "outputs": [
    {
     "data": {
      "text/plain": [
       "Interaction Designer          20580\n",
       "Network Administrator         17470\n",
       "User Interface Designer       14036\n",
       "Social Media Manager          13945\n",
       "User Experience Designer      13935\n",
       "                              ...  \n",
       "Benefits Coordinator           6839\n",
       "Research Analyst               6830\n",
       "Administrative Coordinator     6803\n",
       "IT Support Specialist          6799\n",
       "UI/UX Designer                 6743\n",
       "Name: Role, Length: 61, dtype: int64"
      ]
     },
     "execution_count": 6,
     "metadata": {},
     "output_type": "execute_result"
    }
   ],
   "source": [
    "#dropping classes with less than 6500 instances\n",
    "min_count=6500\n",
    "role_counts=df['Role'].value_counts()\n",
    "dropped_classes=role_counts[role_counts<min_count].index\n",
    "filtered_df=df[~df['Role'].isin(dropped_classes)].reset_index(drop=True)\n",
    "\n",
    "#checking the updated role counts\n",
    "filtered_df['Role'].value_counts()"
   ]
  },
  {
   "cell_type": "code",
   "execution_count": 7,
   "id": "bf2b5b7d",
   "metadata": {},
   "outputs": [
    {
     "data": {
      "text/plain": [
       "61"
      ]
     },
     "execution_count": 7,
     "metadata": {},
     "output_type": "execute_result"
    }
   ],
   "source": [
    "len(filtered_df['Role'].value_counts())"
   ]
  },
  {
   "cell_type": "code",
   "execution_count": 8,
   "id": "554535e1",
   "metadata": {},
   "outputs": [],
   "source": [
    "df=filtered_df.sample(n=10000)"
   ]
  },
  {
   "cell_type": "code",
   "execution_count": 9,
   "id": "632efcc3",
   "metadata": {},
   "outputs": [
    {
     "data": {
      "text/html": [
       "<div>\n",
       "<style scoped>\n",
       "    .dataframe tbody tr th:only-of-type {\n",
       "        vertical-align: middle;\n",
       "    }\n",
       "\n",
       "    .dataframe tbody tr th {\n",
       "        vertical-align: top;\n",
       "    }\n",
       "\n",
       "    .dataframe thead th {\n",
       "        text-align: right;\n",
       "    }\n",
       "</style>\n",
       "<table border=\"1\" class=\"dataframe\">\n",
       "  <thead>\n",
       "    <tr style=\"text-align: right;\">\n",
       "      <th></th>\n",
       "      <th>Role</th>\n",
       "      <th>Features</th>\n",
       "    </tr>\n",
       "  </thead>\n",
       "  <tbody>\n",
       "    <tr>\n",
       "      <th>184901</th>\n",
       "      <td>Data Analyst</td>\n",
       "      <td>0 to 15 Years Marketing Analyst BCA Data analy...</td>\n",
       "    </tr>\n",
       "    <tr>\n",
       "      <th>6331</th>\n",
       "      <td>Procurement Analyst</td>\n",
       "      <td>3 to 14 Years Procurement Manager M.Tech Procu...</td>\n",
       "    </tr>\n",
       "    <tr>\n",
       "      <th>366183</th>\n",
       "      <td>Office Manager</td>\n",
       "      <td>5 to 9 Years Executive Assistant M.Tech Office...</td>\n",
       "    </tr>\n",
       "    <tr>\n",
       "      <th>404323</th>\n",
       "      <td>Procurement Analyst</td>\n",
       "      <td>4 to 10 Years Procurement Manager MBA Procurem...</td>\n",
       "    </tr>\n",
       "    <tr>\n",
       "      <th>432458</th>\n",
       "      <td>Social Media Manager</td>\n",
       "      <td>3 to 13 Years Digital Marketing Specialist B.C...</td>\n",
       "    </tr>\n",
       "  </tbody>\n",
       "</table>\n",
       "</div>"
      ],
      "text/plain": [
       "                        Role  \\\n",
       "184901          Data Analyst   \n",
       "6331     Procurement Analyst   \n",
       "366183        Office Manager   \n",
       "404323   Procurement Analyst   \n",
       "432458  Social Media Manager   \n",
       "\n",
       "                                                 Features  \n",
       "184901  0 to 15 Years Marketing Analyst BCA Data analy...  \n",
       "6331    3 to 14 Years Procurement Manager M.Tech Procu...  \n",
       "366183  5 to 9 Years Executive Assistant M.Tech Office...  \n",
       "404323  4 to 10 Years Procurement Manager MBA Procurem...  \n",
       "432458  3 to 13 Years Digital Marketing Specialist B.C...  "
      ]
     },
     "execution_count": 9,
     "metadata": {},
     "output_type": "execute_result"
    }
   ],
   "source": [
    "df.head()"
   ]
  },
  {
   "cell_type": "code",
   "execution_count": 10,
   "id": "ad613b53",
   "metadata": {},
   "outputs": [],
   "source": [
    "from sklearn.model_selection import train_test_split\n",
    "from sklearn.feature_extraction.text import TfidfVectorizer\n",
    "from sklearn.ensemble import RandomForestClassifier\n",
    "from sklearn.metrics import accuracy_score\n",
    "\n",
    "x=df['Features']\n",
    "y=df['Role']\n",
    "\n",
    "#train-test-split\n",
    "x_train,x_test,y_train,y_test=train_test_split(x,y,test_size=0.2,random_state=42)\n",
    "\n",
    "#TF-IDF vectorization\n",
    "tfidf_vectorizer=TfidfVectorizer()\n",
    "x_train_tfidf=tfidf_vectorizer.fit_transform(x_train)\n",
    "x_test_tfidf=tfidf_vectorizer.transform(x_test)\n"
   ]
  },
  {
   "cell_type": "code",
   "execution_count": 11,
   "id": "d40ba7fd",
   "metadata": {},
   "outputs": [
    {
     "name": "stdout",
     "output_type": "stream",
     "text": [
      "Accuracy 1.0\n"
     ]
    }
   ],
   "source": [
    "#random forest classifier\n",
    "rf_classifier=RandomForestClassifier()\n",
    "rf_classifier.fit(x_train_tfidf,y_train)\n",
    "\n",
    "#predictions\n",
    "y_pred=rf_classifier.predict(x_test_tfidf)\n",
    "accuracy=accuracy_score(y_test,y_pred)\n",
    "print(\"Accuracy\",accuracy)"
   ]
  },
  {
   "cell_type": "code",
   "execution_count": 12,
   "id": "6e9a0f13",
   "metadata": {},
   "outputs": [],
   "source": [
    "#clean resume\n",
    "import re\n",
    "def cleanResume(txt):\n",
    "    cleanText=re.sub('http\\S+\\s',' ',txt)\n",
    "    cleanText=re.sub('RT|cc','.',cleanText)\n",
    "    cleanText=re.sub('#\\S+\\s','.',cleanText)\n",
    "    cleanText=re.sub('@\\S+',' ',cleanText)\n",
    "    cleanText=re.sub('[%s]'%re.escape(\"\"\"!\"#$%&'()*+,-./:;<=>?@[\\]^_`{|}~\"\"\"),'',cleanText)\n",
    "    cleanText=re.sub(r'[^\\x00-\\x7f]', ' ', cleanText) \n",
    "    cleanText=re.sub('\\s+', ' ', cleanText)\n",
    "    return cleanText\n",
    "\n",
    "#prediction and category name\n",
    "def job_recommendation(resume_text):\n",
    "    resume_text=cleanResume(resume_text)\n",
    "    resume_tfidf=tfidf_vectorizer.transform([resume_text])\n",
    "    predicted_category=rf_classifier.predict(resume_tfidf)[0]\n",
    "    return predicted_category"
   ]
  },
  {
   "cell_type": "code",
   "execution_count": 13,
   "id": "8dc4c5bd",
   "metadata": {},
   "outputs": [
    {
     "name": "stdout",
     "output_type": "stream",
     "text": [
      "Predicted Category: Backend Developer\n"
     ]
    }
   ],
   "source": [
    "#EXAMPLE USAGE\n",
    "resume_file=\"\"\"VIT Bhopal University\n",
    "Sep 2021 – Ongoing\n",
    "Bachelor of Technology in Computer Science\n",
    "Specialization: Artificial Intelligence and Machine Learning\n",
    "CGPA: 8.31\n",
    "Glendale Academy International, Hyderabad\n",
    "June 2021\n",
    "Senior Secondary Certificate Examination (Class XII)\n",
    "Percentage: 81 %\n",
    "Bharatiya Vidya Bhavans Vidyashram, Hyderabad\n",
    "June 2019\n",
    "Secondary Certificate Examination (Class X)\n",
    "Percentage: 86 %\n",
    "Academic Projects\n",
    "AI-Cop Python, Keras, TensorFlow, CNN, Pandas, Jupyter Jul 22 - Oct 22\n",
    "• Developed an AI model utilizing deep learning techniques to classify chest X-ray images into three distinct categories:\n",
    "Covid-19 pneumonia, non-Covid-19 pneumonia, and healthy (negative)\n",
    "• Applied image processing and convolutional neural networks (CNN) to enhance diagnostic accuracy\n",
    "• Team Project: Collaborated with a team of 5 members\n",
    "• Role: Front-End and ML Developer\n",
    "Blind’s Aid HTML/CSS, JavaScript, Python, Django, NLP, Speech Recognition Nov 22 - Feb 23\n",
    "• Developed a Voice-Based Email System for visually challenged users, enabling email management through voice\n",
    "commands for all Google-verified accounts\n",
    "• Team Project: Collaborated with a team of 5 members\n",
    "• Role: Front-End and ML Developer\n",
    "The Blood Map Project HTML/CSS, JavaScript, Python, NLP, Speech Recognition Dec 23 - May 24\n",
    "• Developed a platform to efficiently connect hospitals and blood banks with nearby donors, ensuring timely blood supply\n",
    "during emergencies by quickly locating and notifying eligible donors.\n",
    "• Team Project: Collaborated with a team of 7 members\n",
    "• Role: Integrated Google Translate API for seamless multilingual support, improving user accessibility.\n",
    "• Authored comprehensive project documentation, ensuring organized and easily accessible information for future development\n",
    "and maintenance\n",
    "Certifications\n",
    "• Applied Machine Learning in Python by University of Michigan - Coursera\n",
    "• Java Certified Foundations Associate - Oracle\n",
    "• Java Development on Oracle Cloud - Oracle\n",
    "• Privacy and Security in Online Social Media by Prof. Ponnurangam Kumaraguru - NPTEL\n",
    "• Introduction to Cybersecurity - CISCO\n",
    "• Computer Vision - VITyarthi\n",
    "Technical Skills\n",
    "• Primary: Java, Python, HTML/CSS, JavaScript, MySQL\n",
    "• Developer Tools: Git, GitHub, Visual Studio Code\n",
    "Co-Curriculars\n",
    "Member of the IoT Club 2023 - 2024\n",
    "• Collaborated with the IoT Club’s social media team to organize events and boost engagement\n",
    "• Developed and implemented social media strategies, resulting in increased account interactions and higher participation in the\n",
    "club’s initiatives, enhancing overall visibility and outreach\n",
    "• Languages: English, Hindi, Telugu, Sanskrit, Spanish\n",
    "• Hobbies: Trained Basketball player, Trained Kuchipudi dancer, Love gardening and photography\n",
    "\n",
    "\"\"\"\n",
    "predicted_category= job_recommendation(resume_file)\n",
    "print(\"Predicted Category:\", predicted_category)"
   ]
  },
  {
   "cell_type": "code",
   "execution_count": 14,
   "id": "2a1d1f6d",
   "metadata": {},
   "outputs": [],
   "source": [
    "import pickle\n",
    "pickle.dump(rf_classifier,open('rf_classifier_job_recommendation.pkl','wb'))\n",
    "pickle.dump(tfidf_vectorizer,open('tfidf_vectorizor_job_recommendation.pkl','wb'))"
   ]
  },
  {
   "cell_type": "code",
   "execution_count": null,
   "id": "b65fe47b",
   "metadata": {},
   "outputs": [],
   "source": []
  },
  {
   "cell_type": "code",
   "execution_count": null,
   "id": "c5e62614",
   "metadata": {},
   "outputs": [],
   "source": []
  }
 ],
 "metadata": {
  "kernelspec": {
   "display_name": "Python 3 (ipykernel)",
   "language": "python",
   "name": "python3"
  },
  "language_info": {
   "codemirror_mode": {
    "name": "ipython",
    "version": 3
   },
   "file_extension": ".py",
   "mimetype": "text/x-python",
   "name": "python",
   "nbconvert_exporter": "python",
   "pygments_lexer": "ipython3",
   "version": "3.10.9"
  }
 },
 "nbformat": 4,
 "nbformat_minor": 5
}
