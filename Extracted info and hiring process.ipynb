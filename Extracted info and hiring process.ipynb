{
 "cells": [
  {
   "cell_type": "code",
   "execution_count": 4,
   "id": "c271e29e",
   "metadata": {},
   "outputs": [
    {
     "name": "stdout",
     "output_type": "stream",
     "text": [
      "Requirement already satisfied: pdfminer.six in c:\\users\\tanay\\documents\\opencv\\lib\\site-packages (20240706)\n",
      "Requirement already satisfied: charset-normalizer>=2.0.0 in c:\\users\\tanay\\documents\\opencv\\lib\\site-packages (from pdfminer.six) (2.0.4)\n",
      "Requirement already satisfied: cryptography>=36.0.0 in c:\\users\\tanay\\documents\\opencv\\lib\\site-packages (from pdfminer.six) (39.0.1)\n",
      "Requirement already satisfied: cffi>=1.12 in c:\\users\\tanay\\documents\\opencv\\lib\\site-packages (from cryptography>=36.0.0->pdfminer.six) (1.15.1)\n",
      "Requirement already satisfied: pycparser in c:\\users\\tanay\\documents\\opencv\\lib\\site-packages (from cffi>=1.12->cryptography>=36.0.0->pdfminer.six) (2.21)\n",
      "Note: you may need to restart the kernel to use updated packages.\n"
     ]
    }
   ],
   "source": [
    "pip install pdfminer.six\n"
   ]
  },
  {
   "cell_type": "code",
   "execution_count": 5,
   "id": "698d7001",
   "metadata": {},
   "outputs": [
    {
     "name": "stdout",
     "output_type": "stream",
     "text": [
      "pdfminer is successfully installed!\n"
     ]
    }
   ],
   "source": [
    "from pdfminer.high_level import extract_text\n",
    "print(\"pdfminer is successfully installed!\")\n"
   ]
  },
  {
   "cell_type": "code",
   "execution_count": 6,
   "id": "58c6289c",
   "metadata": {},
   "outputs": [
    {
     "data": {
      "text/plain": [
       "'+91 6302749680 | tanaya.tko@gmail.com | https://www.linkedin.com/in/tanaya-ojha-75776a260/  | https://github.com/TanayaO \\n\\nTanaya Ojha \\n\\nEducation \\n\\nVIT Bhopal University \\nBachelor of Technology in Computer Science \\nSpecialization: Artificial Intelligence and Machine Learning \\nCGPA: 8.31 \\nGlendale Academy International, Hyderabad \\nSenior Secondary Certificate Examination (Class XII) \\nPercentage: 81 % \\nBharatiya Vidya Bhavans Vidyashram, Hyderabad \\nSecondary Certificate Examination (Class X) \\nPercentage: 86 % \\n\\nAcademic Projects \\n\\nSep 2021 – Ongoing \\n\\nJune 2021 \\n\\nJune 2019 \\n\\nAI-Cop \\n\\nPython, Keras, TensorFlow, CNN, Pandas, Jupyter \\n\\n Jul 22 - Oct 22 \\n\\n•  Developed an AI model utilizing deep learning techniques to classify chest X-ray images into three distinct categories: \\n\\nCovid-19 pneumonia, non-Covid-19 pneumonia, and healthy (negative) \\n\\n•  Applied image processing and convolutional neural networks (CNN) to enhance diagnostic accuracy \\n•  Team Project: Collaborated with a team of 5 members \\n•  Role: Front-End and ML Developer \\n\\nBlind’s Aid \\n\\nHTML/CSS, JavaScript, Python, Django, NLP, Speech Recognition \\n\\n   Nov 22 - Feb 23 \\n\\n•  Developed a Voice-Based Email System for visually challenged users, enabling email management through voice \\n\\ncommands for all Google-verified accounts \\n\\n•  Team Project: Collaborated with a team of 5 members \\n•  Role: Front-End and ML Developer \\n\\nThe Blood Map Project \\n\\nHTML/CSS, JavaScript, Python, NLP, Speech Recognition \\n\\n  Dec 23 - May 24 \\n\\n•  Developed a platform to efficiently connect hospitals and blood banks with nearby donors, ensuring timely blood supply \\n\\nduring emergencies by quickly locating and notifying eligible donors. \\n\\n•  Team Project: Collaborated with a team of 7 members \\n•  Role: Integrated Google Translate API for seamless multilingual support, improving user accessibility.  \\n•  Authored comprehensive project documentation, ensuring organized and easily accessible information for future development \\n\\nand maintenance \\n\\nCertifications \\n\\n•  Applied Machine Learning in Python by University of Michigan - Coursera \\n•  Java Certified Foundations Associate - Oracle \\n•  Java Development on Oracle Cloud - Oracle \\n•  Privacy and Security in Online Social Media by Prof. Ponnurangam Kumaraguru - NPTEL \\n•  Introduction to Cybersecurity - CISCO \\n•  Computer Vision - VITyarthi \\n\\nTechnical Skills \\n\\n•  Primary: Java, Python, HTML/CSS, JavaScript, MySQL \\n•  Developer Tools: Git, GitHub, Visual Studio Code \\n\\nCo-Curriculars \\n\\nMember of the IoT Club \\n\\n         2023 - 2024  \\n\\n•  Collaborated with the IoT Club’s social media team to organize events and boost engagement \\n•  Developed and implemented social media strategies, resulting in increased account interactions and higher participation in the \\n\\nclub’s initiatives, enhancing overall visibility and outreach \\n\\n•  Languages: English, Hindi, Telugu, Sanskrit, Spanish \\n•  Hobbies: Trained Basketball player, Trained Kuchipudi dancer, Love gardening and photography \\n\\n \\n \\n \\n \\n \\n \\n \\n \\n \\n \\n \\n \\n \\n \\n \\n \\n \\n \\n \\n \\n \\n \\n \\n \\n\\x0c'"
      ]
     },
     "execution_count": 6,
     "metadata": {},
     "output_type": "execute_result"
    }
   ],
   "source": [
    "import re\n",
    "from pdfminer.high_level import extract_text\n",
    "\n",
    "def extract_text_from_pdf(pdf_path):\n",
    "    return extract_text(pdf_path)\n",
    "\n",
    "resume_path=(r\"C:\\Users\\tanay\\Downloads\\imp docs\\tanaya\\Resume_updated.pdf\")\n",
    "text=extract_text_from_pdf(resume_path)\n",
    "text"
   ]
  },
  {
   "cell_type": "code",
   "execution_count": 7,
   "id": "9dd250e7",
   "metadata": {},
   "outputs": [
    {
     "data": {
      "text/plain": [
       "'91 6302749680'"
      ]
     },
     "execution_count": 7,
     "metadata": {},
     "output_type": "execute_result"
    }
   ],
   "source": [
    "import re\n",
    "\n",
    "def extract_contact_number_from_resume(text):\n",
    "    contact_number=None\n",
    "    \n",
    "    # Define a regex pattern for phone numbers\n",
    "    pattern = r'\\b(?:\\+?(\\d{1,3}))?[-.\\s]?(\\d{3})[-.\\s]?(\\d{3})[-.\\s]?(\\d{4})\\b'\n",
    "    match = re.search(pattern, text)\n",
    "    \n",
    "    if match:\n",
    "        contact_number=match.group()\n",
    "    return contact_number\n",
    "    \n",
    "    # Format and return the phone numbers\n",
    "phone=extract_contact_number_from_resume(text)\n",
    "phone\n"
   ]
  },
  {
   "cell_type": "code",
   "execution_count": 10,
   "id": "120b8344",
   "metadata": {},
   "outputs": [
    {
     "data": {
      "text/plain": [
       "'tanaya.tko@gmail.com'"
      ]
     },
     "execution_count": 10,
     "metadata": {},
     "output_type": "execute_result"
    }
   ],
   "source": [
    "import re\n",
    "\n",
    "def extract_email_from_resume(text):\n",
    "    # Initialize email as None\n",
    "    email = None\n",
    "    \n",
    "    # Define a regex pattern for email addresses\n",
    "    pattern = r'[a-zA-Z0-9._%+-]+@[a-zA-Z0-9.-]+\\.[a-zA-Z]{2,}'\n",
    "    match = re.search(pattern, text)\n",
    "    if match:\n",
    "        email = match.group()\n",
    "    return email\n",
    "email=extract_email_from_resume(text)\n",
    "email"
   ]
  },
  {
   "cell_type": "code",
   "execution_count": 24,
   "id": "c50ea6d7",
   "metadata": {},
   "outputs": [
    {
     "name": "stdout",
     "output_type": "stream",
     "text": [
      "skills ['Python', 'Java', 'JavaScript', 'Django', 'MySQL', 'Oracle', 'Git', 'TensorFlow', 'Keras', 'Pandas', 'Computer Vision', 'Deep Learning']\n"
     ]
    }
   ],
   "source": [
    "import re\n",
    "def extract_skills_from_resume(text,skills_list):\n",
    "    skills=[]\n",
    "    \n",
    "    for skill in skills_list:\n",
    "        pattern=r'\\b{}\\b'.format(re.escape(skill))\n",
    "        match=re.search(pattern,text,re.IGNORECASE)\n",
    "        if match:\n",
    "            skills.append(skill)\n",
    "    return skills\n",
    "\n",
    "skills_list= [\n",
    "    # Information Technology\n",
    "    \"Python\", \"Java\", \"C++\", \"JavaScript\", \"SQL\", \"PHP\", \"Ruby\", \"Go\", \"Swift\", \"Kotlin\", \"R\",\n",
    "    \"Django\", \"Flask\", \"React\", \"Angular\", \"Vue.js\", \"Spring\", \"Node.js\", \"Laravel\",\n",
    "    \"MySQL\", \"PostgreSQL\", \"MongoDB\", \"Redis\", \"Oracle\", \"SQLite\",\n",
    "    \"Git\", \"Docker\", \"Kubernetes\", \"Jenkins\", \"JIRA\", \"Selenium\",\n",
    "    \"AWS\", \"Azure\", \"Google Cloud Platform\", \"OpenStack\",\n",
    "    \"TCP/IP\", \"DNS\", \"VPN\", \"Firewalls\", \"Load Balancers\",\n",
    "    \"Penetration Testing\", \"Ethical Hacking\", \"SIEM\", \"OWASP\",\n",
    "\n",
    "    # Data Science & Machine Learning\n",
    "    \"TensorFlow\", \"PyTorch\", \"Keras\", \"Scikit-learn\", \"Pandas\", \"NumPy\",\n",
    "    \"Matplotlib\", \"Seaborn\", \"Tableau\", \"Power BI\", \"Hadoop\", \"Spark\", \"Hive\",\n",
    "    \"Natural Language Processing\", \"Computer Vision\", \"Deep Learning\", \"Data Wrangling\", \"Data Visualization\",\n",
    "    \"Big Data\", \"Statistics\", \"Predictive Modeling\", \"Time Series Analysis\",\n",
    "\n",
    "    # Finance & Accounting\n",
    "    \"Financial Analysis\", \"Budgeting\", \"Forecasting\", \"Tax Preparation\", \"Auditing\",\n",
    "    \"Excel\", \"QuickBooks\", \"SAP\", \"Tally\", \"Financial Modeling\", \"Risk Management\",\n",
    "    \"GAAP\", \"IFRS\", \"Portfolio Management\", \"Investment Analysis\", \"Accounting Software\",\n",
    "\n",
    "    # Marketing & Sales\n",
    "    \"SEO\", \"Content Marketing\", \"Digital Marketing\", \"Social Media Management\",\n",
    "    \"Google Ads\", \"Facebook Ads\", \"CRM\", \"Email Marketing\", \"Market Research\",\n",
    "    \"Branding\", \"Copywriting\", \"Affiliate Marketing\", \"Salesforce\", \"Lead Generation\",\n",
    "    \"Negotiation\", \"Customer Relationship Management\", \"Analytics Tools\",\n",
    "\n",
    "    # Healthcare\n",
    "    \"Patient Care\", \"Medical Terminology\", \"Electronic Health Records (EHR)\",\n",
    "    \"Diagnosis\", \"Clinical Procedures\", \"Pharmacology\", \"Public Health\", \"CPR\",\n",
    "    \"First Aid\", \"ICD Coding\", \"HIPAA Compliance\", \"Anatomy\", \"Pathology\", \"Surgery Assistance\",\n",
    "\n",
    "    # Engineering\n",
    "    \"AutoCAD\", \"MATLAB\", \"SolidWorks\", \"ANSYS\", \"Mechanical Design\", \"Electrical Circuits\",\n",
    "    \"Civil Engineering\", \"Structural Analysis\", \"Thermodynamics\", \"Fluid Mechanics\",\n",
    "    \"Instrumentation\", \"CAD/CAM\", \"Robotics\", \"Embedded Systems\",\n",
    "\n",
    "    # Human Resources\n",
    "    \"Recruitment\", \"Employee Relations\", \"HR Policies\", \"Performance Management\",\n",
    "    \"Training and Development\", \"Payroll Management\", \"Compensation and Benefits\",\n",
    "    \"HRIS\", \"Conflict Resolution\", \"Compliance\", \"Diversity and Inclusion\",\n",
    "\n",
    "    # Education & Training\n",
    "    \"Curriculum Development\", \"Lesson Planning\", \"Classroom Management\",\n",
    "    \"Online Learning Platforms\", \"Assessment Design\", \"Student Counseling\"\n",
    "]\n",
    "\n",
    "extracted_skills= extract_skills_from_resume(text,skills_list)\n",
    "\n",
    "if extracted_skills:\n",
    "    print(\"skills\",extracted_skills)\n",
    "else:\n",
    "    print(\"no skills found\")\n"
   ]
  },
  {
   "cell_type": "code",
   "execution_count": 25,
   "id": "3a746354",
   "metadata": {},
   "outputs": [
    {
     "name": "stdout",
     "output_type": "stream",
     "text": [
      "education ['Bachelor of Technology', 'Computer Science', 'Artificial Intelligence', 'Machine Learning', 'Education']\n"
     ]
    }
   ],
   "source": [
    "import re\n",
    "\n",
    "def extract_education_from_resume(text):\n",
    "    education=[]\n",
    "    \n",
    "    education_keywords=education_keywords = [\n",
    "    # Common Academic Degrees\n",
    "    \"Bachelor of Science\", \"BSc\", \"BS\", \"Bachelor of Arts\", \"BA\", \"Bachelor of Engineering\", \"BE\", \n",
    "    \"Bachelor of Technology\", \"BTech\", \"Bachelor of Commerce\", \"BCom\", \"Bachelor of Business Administration\", \"BBA\", \n",
    "    \"Bachelor of Computer Applications\", \"BCA\", \"Bachelor of Education\", \"BEd\", \n",
    "    \"Master of Science\", \"MSc\", \"MS\", \"Master of Arts\", \"MA\", \"Master of Business Administration\", \"MBA\", \n",
    "    \"Master of Technology\", \"MTech\", \"Master of Engineering\", \"ME\", \"Master of Commerce\", \"MCom\", \n",
    "    \"Master of Computer Applications\", \"MCA\", \"Master of Education\", \"MEd\", \"Doctor of Philosophy\", \"PhD\", \n",
    "    \"Doctorate\", \"MD\", \"JD\", \"LLM\", \"LLB\", \"DDS\", \"DVM\", \n",
    "\n",
    "    # Diplomas & Certifications\n",
    "    \"Diploma\", \"Postgraduate Diploma\", \"Advanced Diploma\", \"Certificate Program\", \"Certification\", \n",
    "    \"Professional Certification\", \"Vocational Training\",\n",
    "\n",
    "    # Fields of Study\n",
    "    \"Computer Science\", \"Information Technology\", \"Engineering\", \"Mechanical Engineering\", \n",
    "    \"Electrical Engineering\", \"Civil Engineering\", \"Electronics and Communication Engineering\", \n",
    "    \"Artificial Intelligence\", \"Data Science\", \"Machine Learning\", \"Business Administration\", \n",
    "    \"Finance\", \"Accounting\", \"Marketing\", \"Human Resources\", \"Economics\", \"Statistics\", \n",
    "    \"Mathematics\", \"Physics\", \"Chemistry\", \"Biology\", \"Biotechnology\", \"Public Health\", \n",
    "    \"Psychology\", \"Sociology\", \"Law\", \"Medicine\", \"Pharmacy\", \"Education\", \"History\", \n",
    "    \"Political Science\", \"Environmental Science\", \"Journalism\", \"Mass Communication\", \"Fine Arts\",\n",
    "\n",
    "    # Professional Certifications\n",
    "    \"PMP\", \"PRINCE2\", \"Six Sigma\", \"ITIL\", \"AWS Certified Solutions Architect\", \n",
    "    \"Google Cloud Certified\", \"Azure Fundamentals\", \"CCNA\", \"CCNP\", \"CISSP\", \"CISM\", \n",
    "    \"CPA\", \"CFA\", \"Chartered Accountant\", \"SHRM-CP\", \"SPHR\", \"CIPD\", \n",
    "\n",
    "    # Technical Certifications\n",
    "    \"CompTIA A+\", \"CompTIA Network+\", \"CompTIA Security+\", \"Certified Ethical Hacker\", \n",
    "    \"Microsoft Certified\", \"Oracle Certified\", \"Salesforce Certified\", \"Adobe Certified Expert\",\n",
    "\n",
    "    # Healthcare Certifications\n",
    "    \"Registered Nurse\", \"Certified Nursing Assistant\", \"Medical Assistant Certification\", \n",
    "    \"Basic Life Support (BLS)\", \"Advanced Cardiovascular Life Support (ACLS)\", \"CPR Certification\",\n",
    "\n",
    "    # Education-related Certifications\n",
    "    \"Teaching Certification\", \"TESOL\", \"TEFL\", \"CELTA\", \"Child Development Certification\", \n",
    "    \"Special Education Certification\"\n",
    "]\n",
    "    for keyword in education_keywords:\n",
    "        pattern=r\"(?i)\\b{}\\b\".format(re.escape(keyword))\n",
    "        match=re.search(pattern,text)\n",
    "        if match:\n",
    "            education.append(match.group())\n",
    "    return education\n",
    "    \n",
    "extracted_education=extract_education_from_resume(text)\n",
    "if extracted_education:\n",
    "    print(\"education\",extracted_education)\n",
    "else:\n",
    "    print(\"no education information found\")\n"
   ]
  },
  {
   "cell_type": "code",
   "execution_count": 20,
   "id": "532be371",
   "metadata": {},
   "outputs": [
    {
     "name": "stdout",
     "output_type": "stream",
     "text": [
      "Name: Tanaya Ojha\n"
     ]
    }
   ],
   "source": [
    "import re\n",
    "\n",
    "def extract_name_from_resume(text):\n",
    "    name = None\n",
    "    \n",
    "    # Define a regex pattern for a person's name (generic example)\n",
    "    pattern = r\"\\b([A-Z][a-z]+(?:\\s[A-Z][a-z]+)*)\\b\"\n",
    "    \n",
    "    # Search for the pattern in the provided text\n",
    "    match = re.search(pattern, text)\n",
    "    if match:\n",
    "        name = match.group()\n",
    "    return name\n",
    "\n",
    "name = extract_name_from_resume(text)\n",
    "if name:\n",
    "    print(\"Name:\", name)\n",
    "else:\n",
    "    print(\"No name found.\")\n"
   ]
  },
  {
   "cell_type": "markdown",
   "id": "d8888816",
   "metadata": {},
   "source": [
    "<p class=\"text-center\"><b><strong>Name:</strong></b>{{name}}</p>\n",
    "        <p class=\"text-center\"><b><strong>Phone No.:</strong></b>{{phone}}</p>\n",
    "        <p class=\"text-center\"><b><strong>Email:</strong></b>{{email}}</p>\n",
    "        {% if extracted_skills %}\n",
    "        <p class=\"text-center\"><b><strong>Skills</strong></b></p>\n",
    "        <ul class=\"list-unstayed text-center\">\n",
    "            {% for skill in extracted_skills %}\n",
    "            <li>{{ skill }}</li>\n",
    "            {% endfor %}\n",
    "\n",
    "        </ul>\n",
    "        {% else %}\n",
    "        <p class=\"text-center\">No skills found</p>\n",
    "        <br>\n",
    "        {% if extracted_education %}\n",
    "        <h1 class=\"text-center\">Education:</h1>\n",
    "        <ul class=\"list-unstyled text-center\">\n",
    "            {% for edu in extracted_education %}\n",
    "            <li>{{edu}}</li>\n",
    "            {% endfor %}\n",
    "        </ul>\n",
    "        {% else %}\n",
    "        <p class=\"text-center\">No education found</p>\n",
    "        <br>\n",
    "        {% endif %}\n",
    "        {% endif %}"
   ]
  },
  {
   "cell_type": "code",
   "execution_count": null,
   "id": "bad88160",
   "metadata": {},
   "outputs": [],
   "source": []
  }
 ],
 "metadata": {
  "kernelspec": {
   "display_name": "Python 3 (ipykernel)",
   "language": "python",
   "name": "python3"
  },
  "language_info": {
   "codemirror_mode": {
    "name": "ipython",
    "version": 3
   },
   "file_extension": ".py",
   "mimetype": "text/x-python",
   "name": "python",
   "nbconvert_exporter": "python",
   "pygments_lexer": "ipython3",
   "version": "3.10.9"
  }
 },
 "nbformat": 4,
 "nbformat_minor": 5
}
